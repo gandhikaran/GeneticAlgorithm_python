{
 "cells": [
  {
   "cell_type": "code",
   "execution_count": 1,
   "metadata": {},
   "outputs": [],
   "source": [
    "import numpy as np\n",
    "import random"
   ]
  },
  {
   "cell_type": "markdown",
   "metadata": {},
   "source": [
    "#### Fitness Function"
   ]
  },
  {
   "cell_type": "code",
   "execution_count": 18,
   "metadata": {},
   "outputs": [],
   "source": [
    "def fitness(np):\n",
    "    f=0\n",
    "    f=np[0]+(np[1]*2)+(np[2]*3)+(np[3]*4)-30\n",
    "    return f"
   ]
  },
  {
   "cell_type": "code",
   "execution_count": 19,
   "metadata": {},
   "outputs": [],
   "source": [
    "pop_size=6\n",
    "ch_size=4\n",
    "min_value=0\n",
    "max_value=30\n",
    "pc=0.4 #Crossover Rate\n",
    "pm = 0.1 #Mutation Rate"
   ]
  },
  {
   "cell_type": "markdown",
   "metadata": {},
   "source": [
    "#### Initialization"
   ]
  },
  {
   "cell_type": "code",
   "execution_count": 20,
   "metadata": {},
   "outputs": [
    {
     "name": "stdout",
     "output_type": "stream",
     "text": [
      "[[ 3  0  4  8]\n",
      " [ 4 15 22 26]\n",
      " [ 7 23 19 27]\n",
      " [ 2 28 16 25]\n",
      " [ 0 24 15 12]\n",
      " [ 8  7 28 11]]\n"
     ]
    }
   ],
   "source": [
    "chromosomes = np.random.randint(min_value,max_value,size=(pop_size,ch_size))\n",
    "print(chromosomes)"
   ]
  },
  {
   "cell_type": "markdown",
   "metadata": {},
   "source": [
    "#### Fitness Evaluation"
   ]
  },
  {
   "cell_type": "code",
   "execution_count": 21,
   "metadata": {},
   "outputs": [
    {
     "name": "stdout",
     "output_type": "stream",
     "text": [
      "[ 17 174 188 176 111 120]\n"
     ]
    }
   ],
   "source": [
    "f=np.zeros(pop_size,dtype='int16')\n",
    "#fit=[]\n",
    "for i in range(0,6):\n",
    "    #fit.append(fitness(ini[i]))\n",
    "    f[i]=fitness(chromosomes[i])\n",
    "print(f)"
   ]
  },
  {
   "cell_type": "code",
   "execution_count": 6,
   "metadata": {
    "scrolled": true
   },
   "outputs": [
    {
     "name": "stdout",
     "output_type": "stream",
     "text": [
      "[0.04545455 0.01666667 0.01190476 0.03030303 0.01265823 0.02941176]\n",
      "[0.310484   0.11384413 0.08131724 0.20698933 0.0864639  0.20090141]\n",
      "1.0\n",
      "[0.310484   0.42432813 0.50564536 0.71263469 0.79909859 1.        ]\n",
      "[0.24377565 0.29618367 0.02125889 0.84994668 0.17032387 0.49135178]\n"
     ]
    }
   ],
   "source": [
    "inv_f = np.zeros(pop_size)\n",
    "inv_f = 1/(f+1)\n",
    "print(inv_f)\n",
    "\n",
    "p=np.zeros(pop_size)\n",
    "p = inv_f/np.sum(inv_f)\n",
    "print(p)\n",
    "print(np.sum(p))\n",
    "\n",
    "c=np.zeros(pop_size)\n",
    "for i in range(0,pop_size):\n",
    "    c[i]=np.sum(p[:(i+1)])\n",
    "print(c)\n",
    "r=np.random.rand(pop_size)\n",
    "print(r)"
   ]
  },
  {
   "cell_type": "code",
   "execution_count": 7,
   "metadata": {},
   "outputs": [
    {
     "name": "stdout",
     "output_type": "stream",
     "text": [
      "[[ 7  8  4  2]\n",
      " [ 7  8  4  2]\n",
      " [ 7  8  4  2]\n",
      " [ 1 15  1 16]\n",
      " [ 7  8  4  2]\n",
      " [19 23 27 14]]\n"
     ]
    }
   ],
   "source": [
    "new_chromosomes = np.zeros((pop_size,ch_size),dtype='int16')\n",
    "for i in range(0,pop_size):\n",
    "    for j in range(0,pop_size):\n",
    "        if (r[i] <= c[j]):\n",
    "            new_chromosomes[i]=chromosomes[j]\n",
    "            break\n",
    "\n",
    "chromosomes=np.copy(new_chromosomes)\n",
    "print(new_chromosomes)"
   ]
  },
  {
   "cell_type": "markdown",
   "metadata": {},
   "source": [
    "#### Crossover"
   ]
  },
  {
   "cell_type": "code",
   "execution_count": 8,
   "metadata": {},
   "outputs": [
    {
     "name": "stdout",
     "output_type": "stream",
     "text": [
      "[array([7, 8, 4, 2], dtype=int16), array([ 1, 15,  1, 16], dtype=int16), array([7, 8, 4, 2], dtype=int16)]\n",
      "[2, 3, 4]\n",
      "[1 1 1]\n"
     ]
    },
    {
     "data": {
      "text/plain": [
       "array([8, 4], dtype=int16)"
      ]
     },
     "execution_count": 8,
     "metadata": {},
     "output_type": "execute_result"
    }
   ],
   "source": [
    "ch=[]\n",
    "ch_position=[]\n",
    "crossover_pt=[]\n",
    "for i in range(0,pop_size):\n",
    "    r = random.random()\n",
    "    if(r<pc):\n",
    "        ch.append(chromosomes[i])\n",
    "        ch_position.append(i)\n",
    "print(ch)   \n",
    "print(ch_position)\n",
    "crossover_pt=np.random.randint(1,(ch_size),size=len(ch))\n",
    "print(crossover_pt)\n",
    "ch[0][1:3]"
   ]
  },
  {
   "cell_type": "code",
   "execution_count": 9,
   "metadata": {},
   "outputs": [
    {
     "name": "stdout",
     "output_type": "stream",
     "text": [
      "[array([ 7, 15,  1, 16], dtype=int16), array([1, 8, 4, 2], dtype=int16), array([7, 8, 4, 2], dtype=int16)]\n"
     ]
    }
   ],
   "source": [
    "new_ch=[]\n",
    "for i in range(0,len(ch)):\n",
    "    new_ch.append(np.copy(ch[i]))\n",
    "    if(i<len(ch)-1):\n",
    "        new_ch[i][crossover_pt[i]:]=ch[i+1][crossover_pt[i]:].copy()\n",
    "    else:\n",
    "        new_ch[i][crossover_pt[i]:]=ch[0][crossover_pt[i]:].copy()\n",
    "print(new_ch)\n",
    "ch=new_ch.copy()"
   ]
  },
  {
   "cell_type": "code",
   "execution_count": 10,
   "metadata": {},
   "outputs": [
    {
     "name": "stdout",
     "output_type": "stream",
     "text": [
      "[[ 7  8  4  2]\n",
      " [ 7  8  4  2]\n",
      " [ 7 15  1 16]\n",
      " [ 1  8  4  2]\n",
      " [ 7  8  4  2]\n",
      " [19 23 27 14]]\n"
     ]
    }
   ],
   "source": [
    "for i in range(0,len(ch)):\n",
    "    chromosomes[ch_position[i]]=np.copy(ch[i])\n",
    "print(chromosomes)"
   ]
  },
  {
   "cell_type": "markdown",
   "metadata": {},
   "source": [
    "#### Mutation"
   ]
  },
  {
   "cell_type": "code",
   "execution_count": 11,
   "metadata": {},
   "outputs": [],
   "source": [
    "def chromesome_gene_pos(x):\n",
    "    ch_pos=int(x/ch_size)\n",
    "    gene_pos=x%ch_size\n",
    "    return ch_pos,gene_pos"
   ]
  },
  {
   "cell_type": "code",
   "execution_count": 15,
   "metadata": {},
   "outputs": [
    {
     "name": "stdout",
     "output_type": "stream",
     "text": [
      "2\n",
      "2\n"
     ]
    }
   ],
   "source": [
    "mutation_range = pop_size* ch_size*pm\n",
    "mutation_range = int(mutation_range)\n",
    "num_of_mut = random.randrange(0,mutation_range+1)\n",
    "print(mutation_range)\n",
    "print(num_of_mut)"
   ]
  },
  {
   "cell_type": "code",
   "execution_count": 16,
   "metadata": {},
   "outputs": [
    {
     "name": "stdout",
     "output_type": "stream",
     "text": [
      "[11  9]\n",
      "[17 20]\n",
      "2 3\n",
      "2 1\n"
     ]
    }
   ],
   "source": [
    "mut_values=np.random.randint(min_value,max_value,size=num_of_mut)\n",
    "mut_pos=np.random.randint(0,(pop_size*ch_size),size=num_of_mut)\n",
    "print(mut_pos)\n",
    "print(mut_values)\n",
    "for i in range(0,num_of_mut):\n",
    "    ch_pos,gene_pos=chromesome_gene_pos(mut_pos[i])\n",
    "    print(ch_pos,gene_pos)\n",
    "    chromosomes[ch_pos,gene_pos]=mut_values[i].copy()"
   ]
  },
  {
   "cell_type": "code",
   "execution_count": 17,
   "metadata": {},
   "outputs": [
    {
     "name": "stdout",
     "output_type": "stream",
     "text": [
      "Updated Chromosomes\n",
      "[[ 7  8  4  2]\n",
      " [ 7  8  4  2]\n",
      " [ 7 20  1 17]\n",
      " [ 1  8  4  2]\n",
      " [ 7  8  4  2]\n",
      " [19 23 27 14]]\n",
      "[21 21 45 15 21 83]\n"
     ]
    }
   ],
   "source": [
    "print('Updated Chromosomes')\n",
    "print(chromosomes)\n",
    "for i in range(0,6):\n",
    "    #fit.append(fitness(ini[i]))\n",
    "    f[i]=fitness(chromosomes[i])\n",
    "print(f)"
   ]
  },
  {
   "cell_type": "code",
   "execution_count": null,
   "metadata": {},
   "outputs": [],
   "source": []
  }
 ],
 "metadata": {
  "kernelspec": {
   "display_name": "Python 3",
   "language": "python",
   "name": "python3"
  },
  "language_info": {
   "codemirror_mode": {
    "name": "ipython",
    "version": 3
   },
   "file_extension": ".py",
   "mimetype": "text/x-python",
   "name": "python",
   "nbconvert_exporter": "python",
   "pygments_lexer": "ipython3",
   "version": "3.7.4"
  }
 },
 "nbformat": 4,
 "nbformat_minor": 2
}
